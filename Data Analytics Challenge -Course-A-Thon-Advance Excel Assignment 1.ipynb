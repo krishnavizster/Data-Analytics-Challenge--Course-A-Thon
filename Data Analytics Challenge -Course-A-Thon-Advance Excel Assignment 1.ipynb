{
 "cells": [
  {
   "cell_type": "markdown",
   "id": "9ef0a1f4",
   "metadata": {},
   "source": [
    "Data Analytics Challenge -Course-A-Thon-Advance Excel Assignment 1"
   ]
  },
  {
   "cell_type": "markdown",
   "id": "0c569854",
   "metadata": {},
   "source": [
    "1. What do you mean by cells in an excel sheet?"
   ]
  },
  {
   "cell_type": "code",
   "execution_count": null,
   "id": "385f0d0a",
   "metadata": {},
   "outputs": [],
   "source": [
    "#Solution\n",
    "Cell: A cell is a rectangular area formed by the intersection \n",
    "of a column and a row. Cells are identified by the Cell Name"
   ]
  },
  {
   "cell_type": "markdown",
   "id": "c65ba3dc",
   "metadata": {},
   "source": [
    "2. How can you restrict someone from copying a cell from your worksheet?"
   ]
  },
  {
   "cell_type": "code",
   "execution_count": null,
   "id": "90cbcb94",
   "metadata": {},
   "outputs": [],
   "source": [
    "#Solution\n",
    "Menu bar >Review > Protect sheet > Password"
   ]
  },
  {
   "cell_type": "markdown",
   "id": "a3c330db",
   "metadata": {},
   "source": [
    "3. How to move or copy the worksheet into another workbook?"
   ]
  },
  {
   "cell_type": "code",
   "execution_count": null,
   "id": "d9a01cf3",
   "metadata": {},
   "outputs": [],
   "source": [
    "#Solution\n",
    "On the Edit menu, click Sheet > Move or Copy Sheet. \n",
    "On the To book menu, click the workbook that you want to copy the sheet to"
   ]
  },
  {
   "cell_type": "markdown",
   "id": "7f009e17",
   "metadata": {},
   "source": [
    "4. Which key is used as a shortcut for opening a new window document?"
   ]
  },
  {
   "cell_type": "code",
   "execution_count": null,
   "id": "d5e12513",
   "metadata": {},
   "outputs": [],
   "source": [
    "#Solution\n",
    "Ctrl+N"
   ]
  },
  {
   "cell_type": "markdown",
   "id": "fda9c114",
   "metadata": {},
   "source": [
    "5. What are the things that we can notice after opening the Excel interface?"
   ]
  },
  {
   "cell_type": "code",
   "execution_count": null,
   "id": "d393d9a8",
   "metadata": {},
   "outputs": [],
   "source": [
    "#Solution\n",
    "The Excel Starter startup screen appears, and a blank spreadsheet is \n",
    "displayed. In Excel Starter, a spreadsheet is called a worksheet\n",
    "When you open a workbook, Excel normally displays the worksheet \n",
    "last displayed when the workbook was last saved"
   ]
  },
  {
   "cell_type": "markdown",
   "id": "d4d5dd23",
   "metadata": {},
   "source": [
    "6. When to use a relative cell reference in excel?"
   ]
  },
  {
   "cell_type": "code",
   "execution_count": null,
   "id": "17334749",
   "metadata": {},
   "outputs": [],
   "source": [
    "#Solution\n",
    "Relative reference is a type of cell reference in Excel. This reference \n",
    "changes when the formula is copied to any other cell or any other worksheet. \n",
    "Relative cell references are used whenever calculations need to be repeated."
   ]
  },
  {
   "cell_type": "code",
   "execution_count": null,
   "id": "f3e6e1b6",
   "metadata": {},
   "outputs": [],
   "source": []
  },
  {
   "cell_type": "code",
   "execution_count": null,
   "id": "1530267e",
   "metadata": {},
   "outputs": [],
   "source": []
  },
  {
   "cell_type": "code",
   "execution_count": null,
   "id": "7145de53",
   "metadata": {},
   "outputs": [],
   "source": []
  }
 ],
 "metadata": {
  "kernelspec": {
   "display_name": "Python 3",
   "language": "python",
   "name": "python3"
  },
  "language_info": {
   "codemirror_mode": {
    "name": "ipython",
    "version": 3
   },
   "file_extension": ".py",
   "mimetype": "text/x-python",
   "name": "python",
   "nbconvert_exporter": "python",
   "pygments_lexer": "ipython3",
   "version": "3.8.8"
  }
 },
 "nbformat": 4,
 "nbformat_minor": 5
}
