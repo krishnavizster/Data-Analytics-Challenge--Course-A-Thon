{
 "cells": [
  {
   "cell_type": "markdown",
   "id": "e091ca88",
   "metadata": {},
   "source": [
    "Data Analytics Challenge -Course-A-Thon-Advance Excel Assignment 5"
   ]
  },
  {
   "cell_type": "markdown",
   "id": "b7446fe1",
   "metadata": {},
   "source": [
    "1. How many types of conditions are available in conditional formatting on Excel?"
   ]
  },
  {
   "cell_type": "code",
   "execution_count": null,
   "id": "6413221d",
   "metadata": {},
   "outputs": [],
   "source": [
    "#Solution: \n",
    "Conditional Formatting is the automatic formatting of cells based on the values that the cells contain.\n",
    "Values-Based Conditional Formatting\n",
    "#Conditions \n",
    "Gretaer than or equal to \n",
    "Less than than or equal to \n",
    "Equal to \n",
    "Between \n",
    "Date Occuring \n",
    "Duplicate values\n",
    "Data bars\n",
    "color scales\n",
    "Icon sets "
   ]
  },
  {
   "cell_type": "markdown",
   "id": "78adf828",
   "metadata": {},
   "source": [
    "2. How to insert border in Excel with Format Cells dialog?"
   ]
  },
  {
   "cell_type": "code",
   "execution_count": null,
   "id": "042ea823",
   "metadata": {},
   "outputs": [],
   "source": [
    "#Solution: \n",
    "Select one or more cells to which we like to add borders\n",
    "Open the Format Cells dialog box by selecting the cell.\n",
    "In the Format Cells dialog box, switch to the Border tab and choose the line style and color first.\n",
    "When done, click OK"
   ]
  },
  {
   "cell_type": "markdown",
   "id": "ec8f9d2c",
   "metadata": {},
   "source": [
    "3. How to Format Numbers as Currency in Excel?"
   ]
  },
  {
   "cell_type": "code",
   "execution_count": null,
   "id": "3a763a56",
   "metadata": {},
   "outputs": [],
   "source": [
    "#Solution: \n",
    "Select the cells that need to format and then, in the Number group on the Home tab, click the down arrow in the Number Format box.\n",
    "Choose either Currency or Accounting."
   ]
  },
  {
   "cell_type": "markdown",
   "id": "0a271286",
   "metadata": {},
   "source": [
    "4. What are the steps to format numbers in Excel with the Percent style?"
   ]
  },
  {
   "cell_type": "code",
   "execution_count": null,
   "id": "e91de699",
   "metadata": {},
   "outputs": [],
   "source": [
    "#Solution: \n",
    "On the Home tab, in the Number group, click the icon next to Number to display the Format Cells dialog box.\n",
    "In the Format Cells dialog box, in the Category list, click Percentage. In the Decimal places box, enter \n",
    "the number of decimal places that you want to display"
   ]
  },
  {
   "cell_type": "markdown",
   "id": "45f1d718",
   "metadata": {},
   "source": [
    "5. What is a shortcut to merge two or more cells in excel?"
   ]
  },
  {
   "cell_type": "code",
   "execution_count": null,
   "id": "a6218416",
   "metadata": {},
   "outputs": [],
   "source": [
    "#Solution: \n",
    "Merge Cells: ALT H+M+M\n",
    "Unmerge Cells: ALT H+M+U"
   ]
  },
  {
   "cell_type": "markdown",
   "id": "04d5e645",
   "metadata": {},
   "source": [
    "6. How do you use text commands in Excel?"
   ]
  },
  {
   "cell_type": "code",
   "execution_count": null,
   "id": "3d8b9d82",
   "metadata": {},
   "outputs": [],
   "source": [
    "#Solution: \n",
    "Select the column, or range where we need to putt the values, \n",
    "then use CTRL+1 to bring up the Format > Cells dialog and on the Number tab select Text"
   ]
  }
 ],
 "metadata": {
  "kernelspec": {
   "display_name": "Python 3",
   "language": "python",
   "name": "python3"
  },
  "language_info": {
   "codemirror_mode": {
    "name": "ipython",
    "version": 3
   },
   "file_extension": ".py",
   "mimetype": "text/x-python",
   "name": "python",
   "nbconvert_exporter": "python",
   "pygments_lexer": "ipython3",
   "version": "3.8.8"
  }
 },
 "nbformat": 4,
 "nbformat_minor": 5
}
