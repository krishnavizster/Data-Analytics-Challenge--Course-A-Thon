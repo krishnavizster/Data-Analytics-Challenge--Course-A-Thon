{
 "cells": [
  {
   "cell_type": "markdown",
   "id": "f2203849",
   "metadata": {},
   "source": [
    "Data Analytics Challenge -Course-A-Thon-Advance Excel Assignment 2"
   ]
  },
  {
   "cell_type": "markdown",
   "id": "e44f4d9d",
   "metadata": {},
   "source": [
    "1. What does the dollar($) sign do?"
   ]
  },
  {
   "cell_type": "code",
   "execution_count": null,
   "id": "06e54d18",
   "metadata": {},
   "outputs": [],
   "source": [
    "#Solution: \n",
    "An absolute reference in Excel is a cell address with the dollar sign ($) in the row or column coordinates"
   ]
  },
  {
   "cell_type": "markdown",
   "id": "d0b0b2f9",
   "metadata": {},
   "source": [
    "2. How to Change the Reference from Relative to Absolute (or Mixed)?"
   ]
  },
  {
   "cell_type": "code",
   "execution_count": null,
   "id": "e3817d12",
   "metadata": {},
   "outputs": [],
   "source": [
    "#Solution :\n",
    "Highlight the cell containing the formula you want to have changed to an absolute or relative reference. Click the formula box (shown below) or highlight the formula and \n",
    "press the F4 key to switch between an absolute and relative cell reference"
   ]
  },
  {
   "cell_type": "markdown",
   "id": "c871cc21",
   "metadata": {},
   "source": [
    "3. Explain the order of operations in excel?"
   ]
  },
  {
   "cell_type": "code",
   "execution_count": null,
   "id": "d9cfd20b",
   "metadata": {},
   "outputs": [],
   "source": [
    "#Solution:\n",
    "xcel order of operation follows the acronym PEMDAS (Parentheses, Exponents, Multiplication, Division, Addition, Subtraction) \n",
    "but with some customization to handle the formula syntax in a spreadsheet."
   ]
  },
  {
   "cell_type": "markdown",
   "id": "5bcf9544",
   "metadata": {},
   "source": [
    "<image src = \"OrderOfOperationsinExcel.jpeg\">"
   ]
  },
  {
   "cell_type": "markdown",
   "id": "c24d5b1b",
   "metadata": {},
   "source": [
    "<image src = \"Order Of Operations in Excel .jpeg\">"
   ]
  },
  {
   "cell_type": "markdown",
   "id": "499ef297",
   "metadata": {},
   "source": [
    "4. What, according to you, are the top 5 functions in excel and write a basic syntax for any of two?\n"
   ]
  },
  {
   "cell_type": "code",
   "execution_count": null,
   "id": "c863ebcd",
   "metadata": {},
   "outputs": [],
   "source": [
    "#Solution:\n",
    "The SUM Function \n",
    "The TEXT Function\n",
    "The VLOOKUP Function\n",
    "The AVERAGE Function\n",
    "The CONCATENATE Function\n",
    "#basic syntax for any of two\n",
    "=SUM(A2:A10) Adds the values in cells A2:10\n",
    "=AVERAGE(A1:A20) returns the average of A1:A20\n"
   ]
  },
  {
   "cell_type": "markdown",
   "id": "d0f2f06a",
   "metadata": {},
   "source": [
    "5. When would you use the subtotal function?"
   ]
  },
  {
   "cell_type": "code",
   "execution_count": null,
   "id": "1d30c556",
   "metadata": {},
   "outputs": [],
   "source": [
    "#Solution:\n",
    "The SUBTOTAL function is used when we want to display a Total row in an Excel Table."
   ]
  },
  {
   "cell_type": "markdown",
   "id": "3df2255e",
   "metadata": {},
   "source": [
    "6. What is the syntax of the vlookup function? Explain the terms in it?"
   ]
  },
  {
   "cell_type": "code",
   "execution_count": null,
   "id": "dd3096a2",
   "metadata": {},
   "outputs": [],
   "source": [
    "#Solution:\n",
    "=VLOOKUP(lookup_value, table_array, col_index_num,\n",
    "example ==VLOOKUP(A15,A1:C11,2,FALSE)\n",
    "         \n",
    "#Explanation Stepts \n",
    " VLOOKUP in Excel\n",
    "Step 1: Organize the data.\n",
    "Step 2: Tell the function what to lookup.\n",
    "Step 3: Tell the function where to look.\n",
    "Step 4: Tell Excel what column to output the data from.\n",
    "Step 5: Exact or approximate match."
   ]
  },
  {
   "cell_type": "code",
   "execution_count": null,
   "id": "98763dd9",
   "metadata": {},
   "outputs": [],
   "source": []
  }
 ],
 "metadata": {
  "kernelspec": {
   "display_name": "Python 3",
   "language": "python",
   "name": "python3"
  },
  "language_info": {
   "codemirror_mode": {
    "name": "ipython",
    "version": 3
   },
   "file_extension": ".py",
   "mimetype": "text/x-python",
   "name": "python",
   "nbconvert_exporter": "python",
   "pygments_lexer": "ipython3",
   "version": "3.8.8"
  }
 },
 "nbformat": 4,
 "nbformat_minor": 5
}
