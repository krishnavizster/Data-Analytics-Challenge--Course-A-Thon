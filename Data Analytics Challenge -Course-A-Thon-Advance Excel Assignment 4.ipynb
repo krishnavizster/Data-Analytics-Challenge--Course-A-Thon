{
 "cells": [
  {
   "cell_type": "markdown",
   "id": "5f8e0230",
   "metadata": {},
   "source": [
    "Data Analytics Challenge -Course-A-Thon-Advance Excel Assignment 4"
   ]
  },
  {
   "cell_type": "markdown",
   "id": "903b37ae",
   "metadata": {},
   "source": [
    "1. To use the ribbon commands, what menu and grouping of commands will you find the Insert and Delete command?\n"
   ]
  },
  {
   "cell_type": "code",
   "execution_count": null,
   "id": "b566f03e",
   "metadata": {},
   "outputs": [],
   "source": [
    "#Solution: \n",
    "Excel ribbon is the row of tabs and icons at the top of the Excel window that allows us to quickly find, \n",
    "understand and use commands for completing a certain task.\n",
    "#Commands \n",
    "Insert Tab commands  :insert Table, Pivot Table, Picture, Shapes, Icons, Charts and Symbols.\n",
    "Delete command: Delete cells, Delete Sheet rows, Delete sheet "
   ]
  },
  {
   "cell_type": "markdown",
   "id": "c350c2aa",
   "metadata": {},
   "source": [
    "2. If you set a row height or column width to 0 (zero), what happens to the row and column?\n"
   ]
  },
  {
   "cell_type": "code",
   "execution_count": null,
   "id": "0e75ed29",
   "metadata": {},
   "outputs": [],
   "source": [
    "#Solution: \n",
    "Row and Columns will hidden "
   ]
  },
  {
   "cell_type": "markdown",
   "id": "c0bb9715",
   "metadata": {},
   "source": [
    "3. Is there a need to change the height and width in a cell? Why?"
   ]
  },
  {
   "cell_type": "code",
   "execution_count": null,
   "id": "d9b583cf",
   "metadata": {},
   "outputs": [],
   "source": [
    "#Solution: \n",
    "Yes there is  a chance to change the height and width of cell in excel because,\n",
    "It is necessary to change width and height in excel to fit the data."
   ]
  },
  {
   "cell_type": "markdown",
   "id": "2e424e4d",
   "metadata": {},
   "source": [
    "4. What is the keyboard shortcut to unhide rows?"
   ]
  },
  {
   "cell_type": "code",
   "execution_count": null,
   "id": "de761537",
   "metadata": {},
   "outputs": [],
   "source": [
    "#Solution: \n",
    "Press Ctrl + Shift + 9 to unhide all rows\n",
    "Ctrl + Shift + 0 (zero) to unhide all columns"
   ]
  },
  {
   "cell_type": "markdown",
   "id": "5f764371",
   "metadata": {},
   "source": [
    "5. How to hide rows containing blank cells?"
   ]
  },
  {
   "cell_type": "code",
   "execution_count": null,
   "id": "c1bed0cb",
   "metadata": {},
   "outputs": [],
   "source": [
    "#Solution: \n",
    "Select the range that contains empty cells you want to hide.\n",
    "On the Home tab, in the Editing group, click Find & Select > Go To Special.\n",
    "In the Go To Special dialog box, select the Blanks radio button, and click OK.\n",
    "Press Ctrl + 9 to hide the corresponding rows."
   ]
  },
  {
   "cell_type": "markdown",
   "id": "bfc28ac5",
   "metadata": {},
   "source": [
    "6. What are the steps to hide the duplicate values using conditional formatting in excel?\n"
   ]
  },
  {
   "cell_type": "code",
   "execution_count": null,
   "id": "cd71988c",
   "metadata": {},
   "outputs": [],
   "source": [
    "#Solution: \n",
    "Select the range you want to hide duplicates.\n",
    "Then click Conditional Formatting > Highlight Cells Rules > Duplicate Values under Home tab.\n",
    "In the Duplicate Values dialog box, select Custom Format in the values with drop-down list, \n",
    "and then click the OK button"
   ]
  }
 ],
 "metadata": {
  "kernelspec": {
   "display_name": "Python 3",
   "language": "python",
   "name": "python3"
  },
  "language_info": {
   "codemirror_mode": {
    "name": "ipython",
    "version": 3
   },
   "file_extension": ".py",
   "mimetype": "text/x-python",
   "name": "python",
   "nbconvert_exporter": "python",
   "pygments_lexer": "ipython3",
   "version": "3.8.8"
  }
 },
 "nbformat": 4,
 "nbformat_minor": 5
}
