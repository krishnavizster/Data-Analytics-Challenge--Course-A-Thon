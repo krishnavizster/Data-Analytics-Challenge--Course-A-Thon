{
 "cells": [
  {
   "cell_type": "markdown",
   "id": "2b36c88e",
   "metadata": {},
   "source": [
    "Data Analytics Challenge -Course-A-Thon-Advance Excel Assignment 3"
   ]
  },
  {
   "cell_type": "markdown",
   "id": "d589147b",
   "metadata": {},
   "source": [
    "1. How and when to use the AutoSum command in excel?"
   ]
  },
  {
   "cell_type": "code",
   "execution_count": null,
   "id": "16e5549a",
   "metadata": {},
   "outputs": [],
   "source": [
    "#Solution \n",
    "Auto sum can be done by Select a cell next to the numbers you want to sum, click AutoSum on the Home tab, press Enter.\n",
    "When even we want to add when column or row of numbers we will use AutoSum command. "
   ]
  },
  {
   "cell_type": "markdown",
   "id": "e5cfb519",
   "metadata": {},
   "source": [
    "2. What is the shortcut key to perform AutoSum?"
   ]
  },
  {
   "cell_type": "code",
   "execution_count": null,
   "id": "37c8d53c",
   "metadata": {},
   "outputs": [],
   "source": [
    "#Solution \n",
    "shortcut,\n",
    "Alt+=.\n",
    "simply hold down the Alt key, then press the equals sign on your keyboard."
   ]
  },
  {
   "cell_type": "markdown",
   "id": "e02b04db",
   "metadata": {},
   "source": [
    "3. How do you get rid of Formula that omits adjacent cells?"
   ]
  },
  {
   "cell_type": "code",
   "execution_count": null,
   "id": "7fb9af80",
   "metadata": {},
   "outputs": [],
   "source": [
    "#Solution \n",
    "Open Excel and then click on File.\n",
    "Go to Options and then select Formulas.\n",
    "Look for Error checking rules and uncheck Formulas which omit cells in a region.\n",
    "Click OK."
   ]
  },
  {
   "cell_type": "markdown",
   "id": "b9afda37",
   "metadata": {},
   "source": [
    "4. How do you select non-adjacent cells in Excel 2016?"
   ]
  },
  {
   "cell_type": "code",
   "execution_count": null,
   "id": "c367b6af",
   "metadata": {},
   "outputs": [],
   "source": [
    "#Solution \n",
    "To select non-adjacent cells and cell ranges, hold Ctrl and select the cells"
   ]
  },
  {
   "cell_type": "markdown",
   "id": "06b2619c",
   "metadata": {},
   "source": [
    "5. What happens if you choose a column, hold down the Alt key and press the letters ocw in quick succession?\n"
   ]
  },
  {
   "cell_type": "code",
   "execution_count": null,
   "id": "c02cfb84",
   "metadata": {},
   "outputs": [],
   "source": [
    "#Solution \n",
    "The column width dialogue box opens allows to set the exact width of the column."
   ]
  },
  {
   "cell_type": "markdown",
   "id": "fb3d79b7",
   "metadata": {},
   "source": [
    "6. If you right-click on a row reference number and click on Insert, where will the row be added?\n"
   ]
  },
  {
   "cell_type": "code",
   "execution_count": null,
   "id": "678e78e0",
   "metadata": {},
   "outputs": [],
   "source": [
    "#Solution \n",
    "New row will be added below. "
   ]
  }
 ],
 "metadata": {
  "kernelspec": {
   "display_name": "Python 3",
   "language": "python",
   "name": "python3"
  },
  "language_info": {
   "codemirror_mode": {
    "name": "ipython",
    "version": 3
   },
   "file_extension": ".py",
   "mimetype": "text/x-python",
   "name": "python",
   "nbconvert_exporter": "python",
   "pygments_lexer": "ipython3",
   "version": "3.8.8"
  }
 },
 "nbformat": 4,
 "nbformat_minor": 5
}
